{
  "nbformat": 4,
  "nbformat_minor": 0,
  "metadata": {
    "colab": {
      "name": "stage_data_in_bucket.ipynb",
      "provenance": [],
      "authorship_tag": "ABX9TyOmkEyKGaxHO7FmWU/rLh4Q",
      "include_colab_link": true
    },
    "kernelspec": {
      "name": "python3",
      "display_name": "Python 3"
    },
    "language_info": {
      "name": "python"
    }
  },
  "cells": [
    {
      "cell_type": "markdown",
      "metadata": {
        "id": "view-in-github",
        "colab_type": "text"
      },
      "source": [
        "<a href=\"https://colab.research.google.com/github/sandeepsign/Chexpert/blob/main/notebooks/stage_data_in_bucket.ipynb\" target=\"_parent\"><img src=\"https://colab.research.google.com/assets/colab-badge.svg\" alt=\"Open In Colab\"/></a>"
      ]
    },
    {
      "cell_type": "markdown",
      "metadata": {
        "id": "o1GiGiTMK8TB"
      },
      "source": [
        "## Bucket for this project is at:\n",
        "https://console.cloud.google.com/storage/browser/cse6250_chexpert"
      ]
    },
    {
      "cell_type": "code",
      "metadata": {
        "id": "-3Ip-PcINVGy"
      },
      "source": [
        "BUCKET_NAME = 'cse6250_chexpert'"
      ],
      "execution_count": 8,
      "outputs": []
    },
    {
      "cell_type": "code",
      "metadata": {
        "id": "BoF_wzxwNA9y"
      },
      "source": [
        "import numpy as np\n",
        "from matplotlib import pyplot as plt\n",
        "from pathlib import Path\n",
        "import os\n",
        "import torch\n",
        "from collections import Counter \n",
        "from itertools import chain \n",
        "import time\n",
        "import math\n",
        "import matplotlib.path\n",
        "import numpy as np\n",
        "from collections import Counter \n",
        "from itertools import chain \n",
        "import torch\n",
        "import numpy as np\n",
        "import matplotlib\n",
        "from matplotlib import pyplot as plt\n",
        "from pathlib import Path\n",
        "import os\n",
        "import cv2\n",
        "from collections import Counter\n",
        "from itertools import chain\n",
        "import os\n",
        "from io import BytesIO\n",
        "import base64\n",
        "import sys\n",
        "from datetime import datetime \n",
        "from flask import Flask, render_template, escape, send_from_directory, request, jsonify\n",
        "from werkzeug.exceptions import RequestEntityTooLarge\n",
        "from PIL import Image\n",
        "import numpy as np\n",
        "import cv2\n",
        "import urllib\n",
        "import requests\n",
        "import json\n",
        "import pdb\n",
        "from collections import OrderedDict \n",
        "from shapely.geometry import LineString\n",
        "import google.protobuf.text_format\n",
        "from collections import Counter\n",
        "import math\n",
        "import shapely.geometry\n",
        "from shapely.geometry.polygon import Polygon\n",
        "from shapely.geometry import shape\n",
        "from shapely.ops import transform\n",
        "from google.cloud import storage"
      ],
      "execution_count": 6,
      "outputs": []
    },
    {
      "cell_type": "markdown",
      "metadata": {
        "id": "Y-EyqGCDN-mA"
      },
      "source": [
        "## Authenticate"
      ]
    },
    {
      "cell_type": "code",
      "metadata": {
        "id": "17ATXGW4N6Lv"
      },
      "source": [
        "from google.colab import auth\n",
        "auth.authenticate_user()"
      ],
      "execution_count": 11,
      "outputs": []
    },
    {
      "cell_type": "code",
      "metadata": {
        "id": "DSsgrXniN5Hg"
      },
      "source": [
        ""
      ],
      "execution_count": null,
      "outputs": []
    },
    {
      "cell_type": "markdown",
      "metadata": {
        "id": "jm9cDWUwJ7T4"
      },
      "source": [
        "## Stage small dataset to the bucket"
      ]
    },
    {
      "cell_type": "code",
      "metadata": {
        "id": "25NbNU9KINUZ"
      },
      "source": [
        "STORAGE_CLIENT = storage.Client('fastai-v3-sandeep')\n",
        "BUCKET = STORAGE_CLIENT.get_bucket(BUCKET_NAME)"
      ],
      "execution_count": 13,
      "outputs": []
    },
    {
      "cell_type": "code",
      "metadata": {
        "id": "3dcei-28N1_e",
        "outputId": "aef95798-647c-4a25-99b5-fefdabd7e12b",
        "colab": {
          "base_uri": "https://localhost:8080/"
        }
      },
      "source": [
        "!df -h"
      ],
      "execution_count": 14,
      "outputs": [
        {
          "output_type": "stream",
          "text": [
            "Filesystem      Size  Used Avail Use% Mounted on\n",
            "overlay         108G   39G   70G  36% /\n",
            "tmpfs            64M     0   64M   0% /dev\n",
            "tmpfs           6.4G     0  6.4G   0% /sys/fs/cgroup\n",
            "shm             5.9G     0  5.9G   0% /dev/shm\n",
            "tmpfs           6.4G   24K  6.4G   1% /var/colab\n",
            "/dev/sda1       114G   40G   75G  36% /etc/hosts\n",
            "tmpfs           6.4G     0  6.4G   0% /proc/acpi\n",
            "tmpfs           6.4G     0  6.4G   0% /proc/scsi\n",
            "tmpfs           6.4G     0  6.4G   0% /sys/firmware\n"
          ],
          "name": "stdout"
        }
      ]
    },
    {
      "cell_type": "code",
      "metadata": {
        "id": "Pa1CsJg2J2bC"
      },
      "source": [
        ""
      ],
      "execution_count": null,
      "outputs": []
    },
    {
      "cell_type": "code",
      "metadata": {
        "id": "nNSUTJi_J2eN"
      },
      "source": [
        ""
      ],
      "execution_count": null,
      "outputs": []
    }
  ]
}